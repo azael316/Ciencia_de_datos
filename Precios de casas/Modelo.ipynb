{
 "cells": [
  {
   "cell_type": "code",
   "execution_count": 4,
   "id": "36477ead-8701-4e43-b0d2-6aa93b69b4d7",
   "metadata": {},
   "outputs": [
    {
     "name": "stdout",
     "output_type": "stream",
     "text": [
      "              Modelo           MAE          RMSE        R2\n",
      "0   Regresión lineal  21126.276571  65389.059987  0.442562\n",
      "1  Árbol de decisión  28720.746575  43808.958004  0.749786\n"
     ]
    }
   ],
   "source": [
    "import pandas as pd\n",
    "import numpy as np\n",
    "from sklearn.model_selection import train_test_split\n",
    "from sklearn.preprocessing import OneHotEncoder, StandardScaler\n",
    "from sklearn.compose import ColumnTransformer\n",
    "from sklearn.pipeline import Pipeline\n",
    "from sklearn.linear_model import LinearRegression\n",
    "from sklearn.tree import DecisionTreeRegressor\n",
    "from sklearn.metrics import mean_absolute_error, mean_squared_error, r2_score\n",
    "\n",
    "# Cargar datos\n",
    "df = pd.read_csv(\"data/raw/train.csv\")\n",
    "df = df.drop(columns=[\"Id\"])\n",
    "\n",
    "# Preprocesamiento\n",
    "num_cols = df.select_dtypes(include=[\"int64\",\"float64\"]).columns.drop(\"SalePrice\")\n",
    "cat_cols = df.select_dtypes(include=[\"object\"]).columns\n",
    "\n",
    "for col in num_cols:\n",
    "    df[col] = df[col].fillna(df[col].median())\n",
    "\n",
    "for col in cat_cols:\n",
    "    df[col] = df[col].fillna(\"Missing\")\n",
    "\n",
    "#Asignación de variables y objetivo\n",
    "X = df.drop(\"SalePrice\", axis=1)\n",
    "Y = df[\"SalePrice\"]\n",
    "\n",
    "#División de los datos\n",
    "X_entr, X_val, Y_entr, Y_val = train_test_split(\n",
    "    X, Y, test_size = 0.2, random_state = 42\n",
    ")\n",
    "\n",
    "# Pipelines\n",
    "preprocessor = ColumnTransformer(\n",
    "    transformers=[\n",
    "        (\"num\", StandardScaler(), num_cols),\n",
    "        (\"cat\", OneHotEncoder(handle_unknown=\"ignore\"), cat_cols)\n",
    "    ]\n",
    ")\n",
    "\n",
    "# Modelos\n",
    "reglin = Pipeline(steps=[(\"preprocesador\", preprocessor),\n",
    "                         (\"modelo\", LinearRegression())])\n",
    "\n",
    "arbol = Pipeline(steps=[(\"preprocesador\", preprocessor),\n",
    "                       (\"modelo\", DecisionTreeRegressor(random_state=42))])\n",
    "\n",
    "#Entrenamiento\n",
    "modelos = {\"Regresión lineal\": reglin,\n",
    "           \"Árbol de decisión\": arbol}\n",
    "\n",
    "resultados = []\n",
    "\n",
    "for nombre, modelo in modelos.items():\n",
    "    modelo.fit(X_entr, Y_entr)\n",
    "    Y_pred = modelo.predict(X_val)\n",
    "\n",
    "    mae = mean_absolute_error(Y_val, Y_pred)\n",
    "    rmse = np.sqrt(mean_squared_error(Y_val, Y_pred))\n",
    "    r2 = r2_score(Y_val, Y_pred)\n",
    "\n",
    "    resultados.append({\"Modelo\": nombre, \"MAE\": mae, \"RMSE\": rmse, \"R2\": r2})\n",
    "\n",
    "resultados_df = pd.DataFrame(resultados)\n",
    "print(resultados_df)"
   ]
  }
 ],
 "metadata": {
  "kernelspec": {
   "display_name": "Python 3 (ipykernel)",
   "language": "python",
   "name": "python3"
  },
  "language_info": {
   "codemirror_mode": {
    "name": "ipython",
    "version": 3
   },
   "file_extension": ".py",
   "mimetype": "text/x-python",
   "name": "python",
   "nbconvert_exporter": "python",
   "pygments_lexer": "ipython3",
   "version": "3.8.10"
  }
 },
 "nbformat": 4,
 "nbformat_minor": 5
}
